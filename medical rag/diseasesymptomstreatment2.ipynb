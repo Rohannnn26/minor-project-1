{
 "cells": [
  {
   "cell_type": "code",
   "execution_count": 1,
   "id": "cbe6edd4",
   "metadata": {},
   "outputs": [
    {
     "data": {
      "text/plain": [
       "True"
      ]
     },
     "execution_count": 1,
     "metadata": {},
     "output_type": "execute_result"
    }
   ],
   "source": [
    "import os\n",
    "from langchain.chat_models import AzureChatOpenAI\n",
    "from dotenv import load_dotenv\n",
    "from langchain_neo4j import Neo4jGraph\n",
    "load_dotenv()"
   ]
  },
  {
   "cell_type": "code",
   "execution_count": 2,
   "id": "a01edbea",
   "metadata": {},
   "outputs": [
    {
     "name": "stdout",
     "output_type": "stream",
     "text": [
      "NEO4J_2_URI: neo4j+s://e245fb0c.databases.neo4j.io\n",
      "NEO4J_2_USERNAME: neo4j\n",
      "NEO4J_2_PASSWORD: UcfxC_Se-KoosA2sZaybXankOkjcJDJeq84pWVZyO7w\n",
      "NEO4J_2_DATABASE: neo4j\n"
     ]
    }
   ],
   "source": [
    "# Let's check what environment variables are being loaded\n",
    "print(\"NEO4J_2_URI:\", os.getenv(\"NEO4J_2_URI\"))\n",
    "print(\"NEO4J_2_USERNAME:\", os.getenv(\"NEO4J_2_USERNAME\"))\n",
    "print(\"NEO4J_2_PASSWORD:\", os.getenv(\"NEO4J_2_PASSWORD\"))\n",
    "print(\"NEO4J_2_DATABASE:\", os.getenv(\"NEO4J_2_DATABASE\"))"
   ]
  },
  {
   "cell_type": "code",
   "execution_count": 3,
   "id": "aa138a7a",
   "metadata": {},
   "outputs": [],
   "source": [
    "# Connect to Neo4j Environment 2 with proper database specification\n",
    "graph = Neo4jGraph(\n",
    "    url=os.getenv(\"NEO4J_2_URI\"),\n",
    "    username=os.getenv(\"NEO4J_2_USERNAME\"),\n",
    "    password=os.getenv(\"NEO4J_2_PASSWORD\"),\n",
    "    database=os.getenv(\"NEO4J_2_DATABASE\")\n",
    ")"
   ]
  },
  {
   "cell_type": "code",
   "execution_count": 4,
   "id": "2f1bb881",
   "metadata": {},
   "outputs": [
    {
     "name": "stdout",
     "output_type": "stream",
     "text": [
      "Connection test result: [{'message': 'Connection successful!'}]\n"
     ]
    }
   ],
   "source": [
    "# Test the connection with a simple query\n",
    "result = graph.query(\"RETURN 'Connection successful!' as message\")\n",
    "print(\"Connection test result:\", result)"
   ]
  },
  {
   "cell_type": "code",
   "execution_count": 5,
   "id": "7c3cc64e",
   "metadata": {},
   "outputs": [
    {
     "name": "stderr",
     "output_type": "stream",
     "text": [
      "C:\\Users\\Rohan Gupta\\AppData\\Local\\Temp\\ipykernel_1916\\3409123018.py:1: LangChainDeprecationWarning: The class `AzureChatOpenAI` was deprecated in LangChain 0.0.10 and will be removed in 1.0. An updated version of the class exists in the :class:`~langchain-openai package and should be used instead. To use it run `pip install -U :class:`~langchain-openai` and import as `from :class:`~langchain_openai import AzureChatOpenAI``.\n",
      "  llm = AzureChatOpenAI(\n"
     ]
    }
   ],
   "source": [
    "llm = AzureChatOpenAI(\n",
    "            azure_endpoint=os.getenv(\"AZURE_OPENAI_ENDPOINT\"),\n",
    "            api_key=os.getenv(\"AZURE_OPENAI_API_KEY\"),\n",
    "            azure_deployment=os.getenv(\"AZURE_OPENAI_DEPLOYMENT\"),\n",
    "            api_version=os.getenv(\"AZURE_OPENAI_API_VERSION\"),\n",
    "            temperature=0.1,\n",
    "            max_tokens=1000\n",
    "        )"
   ]
  },
  {
   "cell_type": "code",
   "execution_count": 9,
   "id": "b61fc180",
   "metadata": {},
   "outputs": [
    {
     "data": {
      "text/plain": [
       "'Node properties:\\nDiseaseSymptomRelationship {fromId: INTEGER, relationshipType: STRING}\\nDiseaseTreatmentRelationship {fromId: INTEGER, relationshipType: STRING}\\nDisease {id: INTEGER, name: STRING, type: STRING}\\nSymptom {id: INTEGER, name: STRING, type: STRING}\\nTreatment {id: INTEGER, name: STRING, type: STRING}\\nRelationship properties:\\n\\nThe relationships:\\n(:DiseaseSymptomRelationship)-[:FOR_DISEASE]->(:Disease)\\n(:DiseaseSymptomRelationship)-[:FOR_SYMPTOM]->(:Symptom)\\n(:DiseaseTreatmentRelationship)-[:FOR_DISEASE]->(:Disease)\\n(:DiseaseTreatmentRelationship)-[:FOR_TREATMENT]->(:Treatment)'"
      ]
     },
     "execution_count": 9,
     "metadata": {},
     "output_type": "execute_result"
    }
   ],
   "source": [
    "graph.schema"
   ]
  },
  {
   "cell_type": "code",
   "execution_count": 7,
   "id": "801f8eaa",
   "metadata": {},
   "outputs": [
    {
     "name": "stdout",
     "output_type": "stream",
     "text": [
      "Setting up knowledge graph RAG system with langchain_neo4j...\n",
      "✓ Graph QA chain setup complete!\n"
     ]
    }
   ],
   "source": [
    "# Step 6: Set up RAG system for knowledge graph querying\n",
    "try:\n",
    "    # Try using the new GraphCypherQAChain from langchain_neo4j\n",
    "    from langchain_neo4j import GraphCypherQAChain\n",
    "    \n",
    "    print(\"Setting up knowledge graph RAG system with langchain_neo4j...\")\n",
    "    \n",
    "    # Set up GraphCypherQAChain for knowledge graph querying\n",
    "    graph_qa_chain = GraphCypherQAChain.from_llm(\n",
    "        llm=llm,\n",
    "        graph=graph,\n",
    "        verbose=True,\n",
    "        return_intermediate_steps=True,\n",
    "        allow_dangerous_requests=True  # Required for security acknowledgment\n",
    "    )\n",
    "    \n",
    "    print(\"✓ Graph QA chain setup complete!\")\n",
    "    \n",
    "except ImportError:\n",
    "    print(\"langchain_neo4j GraphCypherQAChain not available, trying community version...\")\n",
    "    from langchain_community.chains.graph_qa.cypher import GraphCypherQAChain\n",
    "    \n",
    "    # Fallback to community version with proper error handling\n",
    "    try:\n",
    "        graph_qa_chain = GraphCypherQAChain.from_llm(\n",
    "            llm=llm,\n",
    "            graph=graph,\n",
    "            verbose=True,\n",
    "            return_intermediate_steps=True,\n",
    "            allow_dangerous_requests=True\n",
    "        )\n",
    "        print(\"✓ Community Graph QA chain setup complete!\")\n",
    "    except Exception as e:\n",
    "        print(f\"Error with community version: {e}\")\n",
    "        # Create a simple function-based approach\n",
    "        def simple_graph_qa(question):\n",
    "            # Get schema information\n",
    "            schema_info = graph.get_schema\n",
    "            \n",
    "            # Create a simple prompt\n",
    "            cypher_prompt = f\"\"\"\n",
    "            Based on this Neo4j schema:\n",
    "            {schema_info}\n",
    "            \n",
    "            Generate a Cypher query to answer: {question}\n",
    "            \n",
    "            Return only the Cypher query, no explanation.\n",
    "            \"\"\"\n",
    "            \n",
    "            # Get cypher query from LLM\n",
    "            response = llm.invoke(cypher_prompt)\n",
    "            cypher_query = response.content.strip()\n",
    "            \n",
    "            print(f\"Generated Cypher: {cypher_query}\")\n",
    "            \n",
    "            # Execute the query\n",
    "            try:\n",
    "                result = graph.query(cypher_query)\n",
    "                return result\n",
    "            except Exception as query_error:\n",
    "                return f\"Query execution error: {query_error}\"\n",
    "        \n",
    "        # Store the function as our QA chain\n",
    "        graph_qa_chain = simple_graph_qa\n",
    "        print(\"✓ Simple function-based Graph QA setup complete!\")\n",
    "\n",
    "except Exception as e:\n",
    "    print(f\"Unexpected error: {e}\")\n",
    "    print(\"Setting up simple function-based approach...\")\n",
    "    \n",
    "    def simple_graph_qa(question):\n",
    "        schema_info = graph.get_schema\n",
    "        cypher_prompt = f\"\"\"\n",
    "        Based on this Neo4j schema:\n",
    "        {schema_info}\n",
    "        \n",
    "        Generate a Cypher query to answer: {question}\n",
    "        \n",
    "        Return only the Cypher query, no explanation.\n",
    "        \"\"\"\n",
    "        \n",
    "        response = llm.invoke(cypher_prompt)\n",
    "        cypher_query = response.content.strip()\n",
    "        print(f\"Generated Cypher: {cypher_query}\")\n",
    "        \n",
    "        try:\n",
    "            result = graph.query(cypher_query)\n",
    "            return result\n",
    "        except Exception as query_error:\n",
    "            return f\"Query execution error: {query_error}\"\n",
    "    \n",
    "    graph_qa_chain = simple_graph_qa\n",
    "    print(\"✓ Fallback Graph QA setup complete!\")"
   ]
  },
  {
   "cell_type": "code",
   "execution_count": 8,
   "id": "3723a2d1",
   "metadata": {},
   "outputs": [
    {
     "name": "stdout",
     "output_type": "stream",
     "text": [
      "Testing with question: What are the symptoms of diabetes?\n",
      "--------------------------------------------------\n",
      "\n",
      "\n",
      "\u001b[1m> Entering new GraphCypherQAChain chain...\u001b[0m\n",
      "Generated Cypher:\n",
      "\u001b[32;1m\u001b[1;3mcypher\n",
      "MATCH (dsr:DiseaseSymptomRelationship)-[:FOR_DISEASE]->(d:Disease {name: 'diabetes'}), (dsr)-[:FOR_SYMPTOM]->(s:Symptom)\n",
      "RETURN s.name\n",
      "\u001b[0m\n",
      "Generated Cypher:\n",
      "\u001b[32;1m\u001b[1;3mcypher\n",
      "MATCH (dsr:DiseaseSymptomRelationship)-[:FOR_DISEASE]->(d:Disease {name: 'diabetes'}), (dsr)-[:FOR_SYMPTOM]->(s:Symptom)\n",
      "RETURN s.name\n",
      "\u001b[0m\n",
      "Full Context:\n",
      "\u001b[32;1m\u001b[1;3m[]\u001b[0m\n",
      "Full Context:\n",
      "\u001b[32;1m\u001b[1;3m[]\u001b[0m\n",
      "\n",
      "\u001b[1m> Finished chain.\u001b[0m\n",
      "Result: {'query': 'What are the symptoms of diabetes?', 'result': \"I don't know the answer.\", 'intermediate_steps': [{'query': \"cypher\\nMATCH (dsr:DiseaseSymptomRelationship)-[:FOR_DISEASE]->(d:Disease {name: 'diabetes'}), (dsr)-[:FOR_SYMPTOM]->(s:Symptom)\\nRETURN s.name\\n\"}, {'context': []}]}\n",
      "\n",
      "\u001b[1m> Finished chain.\u001b[0m\n",
      "Result: {'query': 'What are the symptoms of diabetes?', 'result': \"I don't know the answer.\", 'intermediate_steps': [{'query': \"cypher\\nMATCH (dsr:DiseaseSymptomRelationship)-[:FOR_DISEASE]->(d:Disease {name: 'diabetes'}), (dsr)-[:FOR_SYMPTOM]->(s:Symptom)\\nRETURN s.name\\n\"}, {'context': []}]}\n"
     ]
    }
   ],
   "source": [
    "# Test the GraphCypherQAChain with a sample query\n",
    "test_question = \"What are the symptoms of diabetes?\"\n",
    "\n",
    "print(f\"Testing with question: {test_question}\")\n",
    "print(\"-\" * 50)\n",
    "\n",
    "result = graph_qa_chain.invoke({\"query\": test_question})\n",
    "print(\"Result:\", result)"
   ]
  },
  {
   "cell_type": "code",
   "execution_count": 14,
   "id": "24c40b8f",
   "metadata": {},
   "outputs": [
    {
     "name": "stdout",
     "output_type": "stream",
     "text": [
      "✓ Helper functions created for medical queries!\n"
     ]
    }
   ],
   "source": [
    "# Helper functions for different types of medical queries (like in notebook 1)\n",
    "def get_symptoms_for_condition(condition_name):\n",
    "    \"\"\"Get all symptoms for a specific medical condition\"\"\"\n",
    "    query = f\"\"\"\n",
    "    MATCH (dsr:DiseaseSymptomRelationship)-[:FOR_DISEASE]->(d:Disease), \n",
    "          (dsr)-[:FOR_SYMPTOM]->(s:Symptom)\n",
    "    WHERE toLower(d.name) CONTAINS toLower('{condition_name}')\n",
    "    RETURN d.name as condition, collect(s.name) as symptoms\n",
    "    \"\"\"\n",
    "    result = graph.query(query)\n",
    "    return result\n",
    "\n",
    "def get_treatments_for_condition(condition_name):\n",
    "    \"\"\"Get all treatments for a specific medical condition\"\"\"\n",
    "    query = f\"\"\"\n",
    "    MATCH (dtr:DiseaseTreatmentRelationship)-[:FOR_DISEASE]->(d:Disease), \n",
    "          (dtr)-[:FOR_TREATMENT]->(t:Treatment)\n",
    "    WHERE toLower(d.name) CONTAINS toLower('{condition_name}')\n",
    "    RETURN d.name as condition, collect(t.name) as treatments\n",
    "    \"\"\"\n",
    "    result = graph.query(query)\n",
    "    return result\n",
    "\n",
    "def find_conditions_by_symptoms(symptoms_list):\n",
    "    \"\"\"Find medical conditions that have any of the specified symptoms\"\"\"\n",
    "    symptoms_str = \"', '\".join(symptoms_list)\n",
    "    query = f\"\"\"\n",
    "    MATCH (dsr:DiseaseSymptomRelationship)-[:FOR_DISEASE]->(d:Disease), \n",
    "          (dsr)-[:FOR_SYMPTOM]->(s:Symptom)\n",
    "    WHERE toLower(s.name) IN [{', '.join([f\"'{symptom.lower()}'\" for symptom in symptoms_list])}]\n",
    "    RETURN d.name as condition, collect(s.name) as matching_symptoms, count(s) as symptom_count\n",
    "    ORDER BY symptom_count DESC\n",
    "    LIMIT 10\n",
    "    \"\"\"\n",
    "    result = graph.query(query)\n",
    "    return result\n",
    "\n",
    "print(\"✓ Helper functions created for medical queries!\")"
   ]
  },
  {
   "cell_type": "code",
   "execution_count": 15,
   "id": "ac8e73f7",
   "metadata": {},
   "outputs": [
    {
     "name": "stdout",
     "output_type": "stream",
     "text": [
      "✓ Advanced templates created!\n"
     ]
    }
   ],
   "source": [
    "# Advanced Cypher Generation Template with Query Optimization (from notebook 1)\n",
    "from langchain_core.prompts import PromptTemplate\n",
    "\n",
    "ADVANCED_CYPHER_TEMPLATE = \"\"\"You are an expert Neo4j Cypher query generator for a medical knowledge graph.\n",
    "\n",
    "DATABASE SCHEMA:\n",
    "{schema}\n",
    "\n",
    "MEDICAL KNOWLEDGE GRAPH STRUCTURE:\n",
    "- Nodes: Disease, Symptom, Treatment, DiseaseSymptomRelationship, DiseaseTreatmentRelationship\n",
    "- Properties: All nodes have \"name\" property containing the text value\n",
    "- Key Relationships:\n",
    "  * (DiseaseSymptomRelationship)-[:FOR_DISEASE]->(Disease)\n",
    "  * (DiseaseSymptomRelationship)-[:FOR_SYMPTOM]->(Symptom)\n",
    "  * (DiseaseTreatmentRelationship)-[:FOR_DISEASE]->(Disease)\n",
    "  * (DiseaseTreatmentRelationship)-[:FOR_TREATMENT]->(Treatment)\n",
    "\n",
    "CRITICAL RULES:\n",
    "1. Use \"name\" property for all nodes, NOT \"id\" \n",
    "2. Use toLower() and CONTAINS for flexible matching\n",
    "3. Use collect() to group results\n",
    "4. Always add LIMIT for multiple results\n",
    "5. Follow the relationship pattern through intermediate nodes\n",
    "\n",
    "QUERY PATTERNS:\n",
    "\n",
    "For symptoms questions (\"What are symptoms of X\", \"X symptoms\", \"signs of X\"):\n",
    "MATCH (dsr:DiseaseSymptomRelationship)-[:FOR_DISEASE]->(d:Disease), \n",
    "      (dsr)-[:FOR_SYMPTOM]->(s:Symptom)\n",
    "WHERE toLower(d.name) CONTAINS toLower(\"condition_name\")\n",
    "RETURN d.name as condition, collect(s.name) as symptoms\n",
    "LIMIT 5\n",
    "\n",
    "For treatment questions (\"How to treat X\", \"treatment for X\", \"cure for X\"):\n",
    "MATCH (dtr:DiseaseTreatmentRelationship)-[:FOR_DISEASE]->(d:Disease), \n",
    "      (dtr)-[:FOR_TREATMENT]->(t:Treatment)\n",
    "WHERE toLower(d.name) CONTAINS toLower(\"condition_name\")\n",
    "RETURN d.name as condition, collect(t.name) as treatments\n",
    "LIMIT 5\n",
    "\n",
    "For diagnostic questions (\"What could cause X\", \"diseases with X symptom\", \"conditions with X\"):\n",
    "MATCH (dsr:DiseaseSymptomRelationship)-[:FOR_DISEASE]->(d:Disease), \n",
    "      (dsr)-[:FOR_SYMPTOM]->(s:Symptom)\n",
    "WHERE toLower(s.name) CONTAINS toLower(\"symptom_name\")\n",
    "RETURN d.name as condition, count(s) as symptom_matches\n",
    "ORDER BY symptom_matches DESC\n",
    "LIMIT 10\n",
    "\n",
    "For general condition info (\"Tell me about X\", \"What is X\"):\n",
    "MATCH (d:Disease)\n",
    "WHERE toLower(d.name) CONTAINS toLower(\"condition_name\")\n",
    "OPTIONAL MATCH (dsr:DiseaseSymptomRelationship)-[:FOR_DISEASE]->(d), (dsr)-[:FOR_SYMPTOM]->(s:Symptom)\n",
    "OPTIONAL MATCH (dtr:DiseaseTreatmentRelationship)-[:FOR_DISEASE]->(d), (dtr)-[:FOR_TREATMENT]->(t:Treatment)\n",
    "RETURN d.name as condition, collect(DISTINCT s.name) as symptoms, collect(DISTINCT t.name) as treatments\n",
    "LIMIT 5\n",
    "\n",
    "Question: {question}\n",
    "\n",
    "Generate ONLY the Cypher query without any explanation:\"\"\"\n",
    "\n",
    "# Create an improved QA prompt template for better responses\n",
    "QA_TEMPLATE = \"\"\"You are a helpful medical assistant. Based on the following information from a medical knowledge graph, provide a clear and helpful response to the patient's question.\n",
    "\n",
    "Context from knowledge graph:\n",
    "{context}\n",
    "\n",
    "Question: {question}\n",
    "\n",
    "Please provide a response as if you are talking to a patient. Be empathetic, clear, and always remind them to consult with healthcare professionals for proper diagnosis and treatment.\n",
    "\n",
    "Answer:\"\"\"\n",
    "\n",
    "print(\"✓ Advanced templates created!\")"
   ]
  },
  {
   "cell_type": "code",
   "execution_count": 36,
   "id": "32008213",
   "metadata": {},
   "outputs": [
    {
     "name": "stdout",
     "output_type": "stream",
     "text": [
      "🚀 Improved medical AI assistant chain created!\n",
      "\n",
      "🧪 Testing improved template (clean output): how to treat type 2 diabetes\n",
      "--------------------------------------------------\n",
      "\n",
      "\n",
      "\u001b[1m> Entering new GraphCypherQAChain chain...\u001b[0m\n",
      "Generated Cypher:\n",
      "\u001b[32;1m\u001b[1;3mMATCH (dtr:DiseaseTreatmentRelationship)-[:FOR_DISEASE]->(d:Disease), \n",
      "      (dtr)-[:FOR_TREATMENT]->(t:Treatment)\n",
      "WHERE toLower(d.name) CONTAINS toLower(\"type 2 diabetes\")\n",
      "RETURN d.name as condition, collect(t.name) as treatments\n",
      "LIMIT 5\u001b[0m\n",
      "Full Context:\n",
      "\u001b[32;1m\u001b[1;3m[{'condition': 'Type 2 Diabetes', 'treatments': ['Exercise', 'Blood Sugar Monitoring', 'Oral Medications', 'Insulin Therapy (In Some Cases)']}]\u001b[0m\n",
      "\n",
      "\u001b[1m> Finished chain.\u001b[0m\n",
      "Question: how to treat type 2 diabetes\n",
      "Answer: Treating type 2 diabetes involves a combination of lifestyle changes and, in some cases, medications. Here are some key steps that can help manage the condition:\n",
      "\n",
      "1. **Exercise**: Regular physical activity is very important. It helps your body use insulin more efficiently and can lower your blood sugar levels. Aim for at least 30 minutes of moderate exercise most days of the week.\n",
      "\n",
      "2. **Blood Sugar Monitoring**: Keeping track of your blood sugar levels is crucial. This helps you understand how different foods, activities, and medications affect your blood sugar. Your healthcare provider will guide you on how often to check your levels.\n",
      "\n",
      "3. **Oral Medications**: There are various oral medications available that can help control blood sugar levels. Your doctor will determine which medication is best for you based on your specific needs.\n",
      "\n",
      "4. **Insulin Therapy**: In some cases, insulin therapy might be necessary. This is more common if your blood sugar levels are not well controlled with oral medications and lifestyle changes alone.\n",
      "\n",
      "Remember, it's essential to work closely with your healthcare team to develop a treatment plan that's tailored to your needs. They can provide you with the best advice and support to manage your diabetes effectively. Always consult with your healthcare provider before making any changes to your treatment plan.\n",
      "\n",
      "🔧 Generated Cypher: MATCH (dtr:DiseaseTreatmentRelationship)-[:FOR_DISEASE]->(d:Disease), \n",
      "      (dtr)-[:FOR_TREATMENT]->(t:Treatment)\n",
      "WHERE toLower(d.name) CONTAINS toLower(\"type 2 diabetes\")\n",
      "RETURN d.name as condition, collect(t.name) as treatments\n",
      "LIMIT 5\n"
     ]
    }
   ],
   "source": [
    "# Create the optimized chain with improved templates (like in notebook 1)\n",
    "# First, create a clean version without verbose output\n",
    "optimized_chain = GraphCypherQAChain.from_llm(\n",
    "    llm,\n",
    "    graph=graph,\n",
    "    verbose=False,  # Turn off verbose to avoid duplicate Cypher output\n",
    "    allow_dangerous_requests=True,\n",
    "    cypher_prompt=PromptTemplate(\n",
    "        input_variables=[\"schema\", \"question\"], \n",
    "        template=ADVANCED_CYPHER_TEMPLATE\n",
    "    ),\n",
    "    qa_prompt=PromptTemplate(\n",
    "        input_variables=[\"context\", \"question\"],\n",
    "        template=QA_TEMPLATE\n",
    "    ),\n",
    "    return_intermediate_steps=True\n",
    ")\n",
    "\n",
    "# Also create a verbose version for debugging when needed\n",
    "optimized_chain_verbose = GraphCypherQAChain.from_llm(\n",
    "    llm,\n",
    "    graph=graph,\n",
    "    verbose=True,  # Keep verbose for debugging\n",
    "    allow_dangerous_requests=True,\n",
    "    cypher_prompt=PromptTemplate(\n",
    "        input_variables=[\"schema\", \"question\"], \n",
    "        template=ADVANCED_CYPHER_TEMPLATE\n",
    "    ),\n",
    "    qa_prompt=PromptTemplate(\n",
    "        input_variables=[\"context\", \"question\"],\n",
    "        template=QA_TEMPLATE\n",
    "    ),\n",
    "    return_intermediate_steps=True\n",
    ")\n",
    "\n",
    "# Create a clean query function that shows only what we want\n",
    "def ask_medical_question_clean(question, show_cypher=False):\n",
    "    \"\"\"Ask a medical question with clean output\"\"\"\n",
    "    if show_cypher:\n",
    "        result = optimized_chain_verbose.invoke({\"query\": question})\n",
    "    else:\n",
    "        result = optimized_chain.invoke({\"query\": question})\n",
    "    \n",
    "    print(f\"Question: {question}\")\n",
    "    print(f\"Answer: {result['result']}\")\n",
    "    \n",
    "    if show_cypher and 'intermediate_steps' in result:\n",
    "        print(f\"\\n🔧 Generated Cypher: {result['intermediate_steps'][0]['query']}\")\n",
    "    \n",
    "    return result\n",
    "\n",
    "print(\"🚀 Improved medical AI assistant chain created!\")\n",
    "\n",
    "# Test with a question to show it works cleanly\n",
    "test_question = input(\"Enter your medical question: \")\n",
    "print(f\"\\n🧪 Testing improved template (clean output): {test_question}\")\n",
    "print(\"-\" * 50)\n",
    "\n",
    "try:\n",
    "    result = ask_medical_question_clean(test_question, show_cypher=True)\n",
    "except Exception as e:\n",
    "    print(f\"Error: {str(e)}\")"
   ]
  },
  {
   "cell_type": "code",
   "execution_count": null,
   "id": "fca17cf9",
   "metadata": {},
   "outputs": [],
   "source": []
  }
 ],
 "metadata": {
  "kernelspec": {
   "display_name": "knowlege graph (3.13.1)",
   "language": "python",
   "name": "python3"
  },
  "language_info": {
   "codemirror_mode": {
    "name": "ipython",
    "version": 3
   },
   "file_extension": ".py",
   "mimetype": "text/x-python",
   "name": "python",
   "nbconvert_exporter": "python",
   "pygments_lexer": "ipython3",
   "version": "3.13.1"
  }
 },
 "nbformat": 4,
 "nbformat_minor": 5
}
