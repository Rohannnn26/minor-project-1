{
 "cells": [
  {
   "cell_type": "code",
   "execution_count": 7,
   "id": "2a43547e",
   "metadata": {},
   "outputs": [
    {
     "data": {
      "text/plain": [
       "True"
      ]
     },
     "execution_count": 7,
     "metadata": {},
     "output_type": "execute_result"
    }
   ],
   "source": [
    "import os\n",
    "from langchain.chat_models import AzureChatOpenAI\n",
    "from dotenv import load_dotenv\n",
    "from langchain_community.graphs import Neo4jGraph\n",
    "load_dotenv()"
   ]
  },
  {
   "cell_type": "code",
   "execution_count": 8,
   "id": "bc9c10d0",
   "metadata": {},
   "outputs": [],
   "source": [
    "graph = Neo4jGraph(\n",
    "    url=os.getenv(\"NEO4J_URI\"),\n",
    "    username=os.getenv(\"NEO4J_USERNAME\"),\n",
    "    password=os.getenv(\"NEO4J_PASSWORD\"),\n",
    "\n",
    ")\n",
    "\n"
   ]
  },
  {
   "cell_type": "code",
   "execution_count": 9,
   "id": "24863679",
   "metadata": {},
   "outputs": [
    {
     "data": {
      "text/plain": [
       "Document(metadata={}, page_content='Diseases are medical conditions that disrupt normal body functions, ranging from common illnesses like influenza and diabetes to rare disorders such as Wilson’s disease. Each disease manifests through a unique set of symptoms; for example, influenza often causes fever, fatigue, sore throat, and body aches, whereas diabetes may present with excessive thirst, frequent urination, and unexplained weight loss. Accurate identification of symptoms is crucial for effective treatment, as medicines are typically prescribed to alleviate these symptoms and target the underlying condition. Antiviral drugs such as oseltamivir can reduce the severity of influenza, while insulin therapy is essential for managing diabetes. Herbal or traditional medicines, like turmeric for inflammation or ginger for nausea, are sometimes used as complementary treatments. By systematically mapping diseases to their symptoms and corresponding medicines, healthcare systems can improve diagnosis, treatment, and patient outcomes.\\n')"
      ]
     },
     "execution_count": 9,
     "metadata": {},
     "output_type": "execute_result"
    }
   ],
   "source": [
    "from langchain_core.documents import Document\n",
    "text=\"\"\"Diseases are medical conditions that disrupt normal body functions, ranging from common illnesses like influenza and diabetes to rare disorders such as Wilson’s disease. Each disease manifests through a unique set of symptoms; for example, influenza often causes fever, fatigue, sore throat, and body aches, whereas diabetes may present with excessive thirst, frequent urination, and unexplained weight loss. Accurate identification of symptoms is crucial for effective treatment, as medicines are typically prescribed to alleviate these symptoms and target the underlying condition. Antiviral drugs such as oseltamivir can reduce the severity of influenza, while insulin therapy is essential for managing diabetes. Herbal or traditional medicines, like turmeric for inflammation or ginger for nausea, are sometimes used as complementary treatments. By systematically mapping diseases to their symptoms and corresponding medicines, healthcare systems can improve diagnosis, treatment, and patient outcomes.\n",
    "\"\"\"\n",
    "doc = Document(page_content=text)\n",
    "doc"
   ]
  },
  {
   "cell_type": "code",
   "execution_count": 11,
   "id": "e5b985b4",
   "metadata": {},
   "outputs": [],
   "source": [
    "llm = AzureChatOpenAI(\n",
    "            azure_endpoint=os.getenv(\"AZURE_OPENAI_ENDPOINT\"),\n",
    "            api_key=os.getenv(\"AZURE_OPENAI_API_KEY\"),\n",
    "            azure_deployment=os.getenv(\"AZURE_OPENAI_DEPLOYMENT\"),\n",
    "            api_version=os.getenv(\"AZURE_OPENAI_API_VERSION\"),\n",
    "            temperature=0.1,\n",
    "            max_tokens=1000\n",
    "        )"
   ]
  },
  {
   "cell_type": "code",
   "execution_count": null,
   "id": "5f175900",
   "metadata": {},
   "outputs": [],
   "source": [
    "from langchain_experimental.graph_transformers import LLMGraphTransformer\n",
    "\n",
    "llm_transformer = LLMGraphTransformer(llm=llm)"
   ]
  },
  {
   "cell_type": "code",
   "execution_count": 36,
   "id": "263bc332",
   "metadata": {},
   "outputs": [],
   "source": [
    "graph_documents = llm_transformer.convert_to_graph_documents([doc])"
   ]
  },
  {
   "cell_type": "code",
   "execution_count": 37,
   "id": "7b4241c5",
   "metadata": {},
   "outputs": [
    {
     "data": {
      "text/plain": [
       "[GraphDocument(nodes=[Node(id='frequent urination', type='Symptom', properties={}), Node(id='Diseases', type='Medical Condition', properties={}), Node(id='fatigue', type='Symptom', properties={}), Node(id='body aches', type='Symptom', properties={}), Node(id='fever', type='Symptom', properties={}), Node(id='sore throat', type='Symptom', properties={}), Node(id='excessive thirst', type='Symptom', properties={}), Node(id='unexplained weight loss', type='Symptom', properties={}), Node(id='insulin therapy', type='Medicine', properties={}), Node(id='influenza', type='Medical Condition', properties={}), Node(id='diabetes', type='Medical Condition', properties={}), Node(id='turmeric', type='Medicine', properties={}), Node(id='normal body functions', type='Body Function', properties={}), Node(id='oseltamivir', type='Medicine', properties={}), Node(id='ginger', type='Medicine', properties={}), Node(id='inflammation', type='Symptom', properties={}), Node(id='nausea', type='Symptom', properties={})], relationships=[Relationship(source=Node(id='Diseases', type='Medical Condition', properties={}), target=Node(id='normal body functions', type='Body Function', properties={}), type='DISRUPTS', properties={}), Relationship(source=Node(id='influenza', type='Medical Condition', properties={}), target=Node(id='fever', type='Symptom', properties={}), type='HAS_SYMPTOM', properties={}), Relationship(source=Node(id='influenza', type='Medical Condition', properties={}), target=Node(id='fatigue', type='Symptom', properties={}), type='HAS_SYMPTOM', properties={}), Relationship(source=Node(id='influenza', type='Medical Condition', properties={}), target=Node(id='sore throat', type='Symptom', properties={}), type='HAS_SYMPTOM', properties={}), Relationship(source=Node(id='influenza', type='Medical Condition', properties={}), target=Node(id='body aches', type='Symptom', properties={}), type='HAS_SYMPTOM', properties={}), Relationship(source=Node(id='diabetes', type='Medical Condition', properties={}), target=Node(id='excessive thirst', type='Symptom', properties={}), type='HAS_SYMPTOM', properties={}), Relationship(source=Node(id='diabetes', type='Medical Condition', properties={}), target=Node(id='frequent urination', type='Symptom', properties={}), type='HAS_SYMPTOM', properties={}), Relationship(source=Node(id='diabetes', type='Medical Condition', properties={}), target=Node(id='unexplained weight loss', type='Symptom', properties={}), type='HAS_SYMPTOM', properties={}), Relationship(source=Node(id='oseltamivir', type='Medicine', properties={}), target=Node(id='influenza', type='Medical Condition', properties={}), type='TREATS', properties={}), Relationship(source=Node(id='insulin therapy', type='Medicine', properties={}), target=Node(id='diabetes', type='Medical Condition', properties={}), type='MANAGES', properties={}), Relationship(source=Node(id='turmeric', type='Medicine', properties={}), target=Node(id='inflammation', type='Symptom', properties={}), type='TREATS', properties={}), Relationship(source=Node(id='ginger', type='Medicine', properties={}), target=Node(id='nausea', type='Symptom', properties={}), type='TREATS', properties={})], source=Document(metadata={}, page_content='Diseases are medical conditions that disrupt normal body functions, ranging from common illnesses like influenza and diabetes to rare disorders such as Wilson’s disease. Each disease manifests through a unique set of symptoms; for example, influenza often causes fever, fatigue, sore throat, and body aches, whereas diabetes may present with excessive thirst, frequent urination, and unexplained weight loss. Accurate identification of symptoms is crucial for effective treatment, as medicines are typically prescribed to alleviate these symptoms and target the underlying condition. Antiviral drugs such as oseltamivir can reduce the severity of influenza, while insulin therapy is essential for managing diabetes. Herbal or traditional medicines, like turmeric for inflammation or ginger for nausea, are sometimes used as complementary treatments. By systematically mapping diseases to their symptoms and corresponding medicines, healthcare systems can improve diagnosis, treatment, and patient outcomes.\\n'))]"
      ]
     },
     "execution_count": 37,
     "metadata": {},
     "output_type": "execute_result"
    }
   ],
   "source": [
    "graph_documents"
   ]
  },
  {
   "cell_type": "code",
   "execution_count": 38,
   "id": "fd2c9a16",
   "metadata": {},
   "outputs": [
    {
     "data": {
      "text/plain": [
       "[Node(id='frequent urination', type='Symptom', properties={}),\n",
       " Node(id='Diseases', type='Medical Condition', properties={}),\n",
       " Node(id='fatigue', type='Symptom', properties={}),\n",
       " Node(id='body aches', type='Symptom', properties={}),\n",
       " Node(id='fever', type='Symptom', properties={}),\n",
       " Node(id='sore throat', type='Symptom', properties={}),\n",
       " Node(id='excessive thirst', type='Symptom', properties={}),\n",
       " Node(id='unexplained weight loss', type='Symptom', properties={}),\n",
       " Node(id='insulin therapy', type='Medicine', properties={}),\n",
       " Node(id='influenza', type='Medical Condition', properties={}),\n",
       " Node(id='diabetes', type='Medical Condition', properties={}),\n",
       " Node(id='turmeric', type='Medicine', properties={}),\n",
       " Node(id='normal body functions', type='Body Function', properties={}),\n",
       " Node(id='oseltamivir', type='Medicine', properties={}),\n",
       " Node(id='ginger', type='Medicine', properties={}),\n",
       " Node(id='inflammation', type='Symptom', properties={}),\n",
       " Node(id='nausea', type='Symptom', properties={})]"
      ]
     },
     "execution_count": 38,
     "metadata": {},
     "output_type": "execute_result"
    }
   ],
   "source": [
    "graph_documents[0].nodes"
   ]
  },
  {
   "cell_type": "code",
   "execution_count": 70,
   "id": "68daff9e",
   "metadata": {},
   "outputs": [
    {
     "data": {
      "text/plain": [
       "[Relationship(source=Node(id='Diseases', type='Medical Condition', properties={}), target=Node(id='normal body functions', type='Body Function', properties={}), type='DISRUPTS', properties={}),\n",
       " Relationship(source=Node(id='influenza', type='Medical Condition', properties={}), target=Node(id='fever', type='Symptom', properties={}), type='HAS_SYMPTOM', properties={}),\n",
       " Relationship(source=Node(id='influenza', type='Medical Condition', properties={}), target=Node(id='fatigue', type='Symptom', properties={}), type='HAS_SYMPTOM', properties={}),\n",
       " Relationship(source=Node(id='influenza', type='Medical Condition', properties={}), target=Node(id='sore throat', type='Symptom', properties={}), type='HAS_SYMPTOM', properties={}),\n",
       " Relationship(source=Node(id='influenza', type='Medical Condition', properties={}), target=Node(id='body aches', type='Symptom', properties={}), type='HAS_SYMPTOM', properties={}),\n",
       " Relationship(source=Node(id='diabetes', type='Medical Condition', properties={}), target=Node(id='excessive thirst', type='Symptom', properties={}), type='HAS_SYMPTOM', properties={}),\n",
       " Relationship(source=Node(id='diabetes', type='Medical Condition', properties={}), target=Node(id='frequent urination', type='Symptom', properties={}), type='HAS_SYMPTOM', properties={}),\n",
       " Relationship(source=Node(id='diabetes', type='Medical Condition', properties={}), target=Node(id='unexplained weight loss', type='Symptom', properties={}), type='HAS_SYMPTOM', properties={}),\n",
       " Relationship(source=Node(id='oseltamivir', type='Medicine', properties={}), target=Node(id='influenza', type='Medical Condition', properties={}), type='TREATS', properties={}),\n",
       " Relationship(source=Node(id='insulin therapy', type='Medicine', properties={}), target=Node(id='diabetes', type='Medical Condition', properties={}), type='MANAGES', properties={}),\n",
       " Relationship(source=Node(id='turmeric', type='Medicine', properties={}), target=Node(id='inflammation', type='Symptom', properties={}), type='TREATS', properties={}),\n",
       " Relationship(source=Node(id='ginger', type='Medicine', properties={}), target=Node(id='nausea', type='Symptom', properties={}), type='TREATS', properties={})]"
      ]
     },
     "execution_count": 70,
     "metadata": {},
     "output_type": "execute_result"
    }
   ],
   "source": [
    "graph_documents[0]."
   ]
  },
  {
   "cell_type": "code",
   "execution_count": 39,
   "id": "1333104b",
   "metadata": {},
   "outputs": [
    {
     "name": "stdout",
     "output_type": "stream",
     "text": [
      "=== Medical Conditions ===\n",
      "- Diseases\n",
      "- influenza\n",
      "- diabetes\n",
      "\n",
      "=== Symptoms ===\n",
      "- frequent urination\n",
      "- fatigue\n",
      "- body aches\n",
      "- fever\n",
      "- sore throat\n",
      "- excessive thirst\n",
      "- unexplained weight loss\n",
      "- inflammation\n",
      "- nausea\n",
      "\n",
      "=== Medicines ===\n",
      "- insulin therapy\n",
      "- turmeric\n",
      "- oseltamivir\n",
      "- ginger\n"
     ]
    }
   ],
   "source": [
    "# Method 1: Query nodes by type\n",
    "print(\"=== Medical Conditions ===\")\n",
    "medical_conditions = [node for node in graph_documents[0].nodes if node.type == 'Medical Condition']\n",
    "for condition in medical_conditions:\n",
    "    print(f\"- {condition.id}\")\n",
    "\n",
    "print(\"\\n=== Symptoms ===\")\n",
    "symptoms = [node for node in graph_documents[0].nodes if node.type == 'Symptom']\n",
    "for symptom in symptoms:\n",
    "    print(f\"- {symptom.id}\")\n",
    "\n",
    "print(\"\\n=== Medicines ===\")\n",
    "medicines = [node for node in graph_documents[0].nodes if node.type == 'Medicine']\n",
    "for medicine in medicines:\n",
    "    print(f\"- {medicine.id}\")"
   ]
  },
  {
   "cell_type": "code",
   "execution_count": 40,
   "id": "9318badb",
   "metadata": {},
   "outputs": [],
   "source": [
    "# Store the graph documents in Neo4j database\n",
    "graph.add_graph_documents(graph_documents)"
   ]
  },
  {
   "cell_type": "code",
   "execution_count": 42,
   "id": "4f81cd66",
   "metadata": {},
   "outputs": [
    {
     "name": "stdout",
     "output_type": "stream",
     "text": [
      "=== All Node Types and Entities ===\n",
      "['Body Function']: ['normal body functions']\n",
      "['Medical Condition']: ['Diseases', 'influenza', 'diabetes']\n",
      "['Medicine']: ['insulin therapy', 'turmeric', 'oseltamivir', 'ginger']\n",
      "['Symptom']: ['frequent urination', 'fatigue', 'body aches', 'fever', 'sore throat', 'excessive thirst', 'unexplained weight loss', 'inflammation', 'nausea']\n"
     ]
    }
   ],
   "source": [
    "# Method 1: Query all nodes and their types\n",
    "query = \"\"\"\n",
    "MATCH (n) \n",
    "RETURN DISTINCT labels(n) as NodeType, collect(n.id) as Entities\n",
    "ORDER BY NodeType\n",
    "\"\"\"\n",
    "result = graph.query(query)\n",
    "print(\"=== All Node Types and Entities ===\")\n",
    "for record in result:\n",
    "    print(f\"{record['NodeType']}: {record['Entities']}\")"
   ]
  },
  {
   "cell_type": "code",
   "execution_count": 44,
   "id": "097086a8",
   "metadata": {},
   "outputs": [
    {
     "name": "stderr",
     "output_type": "stream",
     "text": [
      "Received notification from DBMS server: {severity: WARNING} {code: Neo.ClientNotification.Statement.UnknownLabelWarning} {category: UNRECOGNIZED} {title: The provided label is not in the database.} {description: One of the labels in your query is not available in the database, make sure you didn't misspell it or that the label is available when you run this statement in your application (the missing label name is: MedicalCondition)} {position: line: 2, column: 16, offset: 16} for query: \"\\nMATCH (disease:MedicalCondition {id: 'influenza'})-[r:HAS_SYMPTOM]->(symptom:Symptom)\\nRETURN disease.id as Disease, r.type as Relationship, symptom.id as Symptom\\n\"\n",
      "Received notification from DBMS server: {severity: WARNING} {code: Neo.ClientNotification.Statement.UnknownPropertyKeyWarning} {category: UNRECOGNIZED} {title: The provided property key is not in the database} {description: One of the property names in your query is not available in the database, make sure you didn't misspell it or that the label is available when you run this statement in your application (the missing property name is: type)} {position: line: 3, column: 33, offset: 119} for query: \"\\nMATCH (disease:MedicalCondition {id: 'influenza'})-[r:HAS_SYMPTOM]->(symptom:Symptom)\\nRETURN disease.id as Disease, r.type as Relationship, symptom.id as Symptom\\n\"\n"
     ]
    },
    {
     "name": "stdout",
     "output_type": "stream",
     "text": [
      "=== Influenza Symptoms ===\n"
     ]
    }
   ],
   "source": [
    "# Method 2: Query symptoms of a specific disease\n",
    "query = \"\"\"\n",
    "MATCH (disease:MedicalCondition {id: 'influenza'})-[r:HAS_SYMPTOM]->(symptom:Symptom)\n",
    "RETURN disease.id as Disease, r.type as Relationship, symptom.id as Symptom\n",
    "\"\"\"\n",
    "result = graph.query(query)\n",
    "print(\"=== Influenza Symptoms ===\")\n",
    "for record in result:\n",
    "    print(f\"{record['Disease']} --{record['Relationship']}--> {record['Symptom']}\")"
   ]
  },
  {
   "cell_type": "code",
   "execution_count": 45,
   "id": "5293b9c3",
   "metadata": {},
   "outputs": [
    {
     "name": "stdout",
     "output_type": "stream",
     "text": [
      "=== Graph Structure ===\n",
      "['Medical Condition'] 'Diseases' --DISRUPTS--> ['Body Function'] 'normal body functions'\n",
      "['Medicine'] 'insulin therapy' --MANAGES--> ['Medical Condition'] 'diabetes'\n",
      "['Medical Condition'] 'influenza' --HAS_SYMPTOM--> ['Symptom'] 'fatigue'\n",
      "['Medical Condition'] 'influenza' --HAS_SYMPTOM--> ['Symptom'] 'body aches'\n",
      "['Medical Condition'] 'influenza' --HAS_SYMPTOM--> ['Symptom'] 'fever'\n",
      "['Medical Condition'] 'influenza' --HAS_SYMPTOM--> ['Symptom'] 'sore throat'\n",
      "['Medical Condition'] 'diabetes' --HAS_SYMPTOM--> ['Symptom'] 'frequent urination'\n",
      "['Medical Condition'] 'diabetes' --HAS_SYMPTOM--> ['Symptom'] 'excessive thirst'\n",
      "['Medical Condition'] 'diabetes' --HAS_SYMPTOM--> ['Symptom'] 'unexplained weight loss'\n",
      "['Medicine'] 'turmeric' --TREATS--> ['Symptom'] 'inflammation'\n"
     ]
    }
   ],
   "source": [
    "# Check the actual graph structure\n",
    "query = \"\"\"\n",
    "MATCH (n)-[r]->(m) \n",
    "RETURN labels(n) as SourceLabels, n.id as SourceId, type(r) as RelationType, labels(m) as TargetLabels, m.id as TargetId\n",
    "LIMIT 10\n",
    "\"\"\"\n",
    "result = graph.query(query)\n",
    "print(\"=== Graph Structure ===\")\n",
    "for record in result:\n",
    "    print(f\"{record['SourceLabels']} '{record['SourceId']}' --{record['RelationType']}--> {record['TargetLabels']} '{record['TargetId']}'\")"
   ]
  },
  {
   "cell_type": "code",
   "execution_count": 46,
   "id": "cb82fc2d",
   "metadata": {},
   "outputs": [
    {
     "name": "stdout",
     "output_type": "stream",
     "text": [
      "=== Influenza Symptoms ===\n",
      "• fatigue\n",
      "• body aches\n",
      "• fever\n",
      "• sore throat\n"
     ]
    }
   ],
   "source": [
    "# Method 3: Query symptoms of influenza (corrected)\n",
    "query = \"\"\"\n",
    "MATCH (disease:`Medical Condition` {id: 'influenza'})-[r:HAS_SYMPTOM]->(symptom:Symptom)\n",
    "RETURN disease.id as Disease, type(r) as Relationship, symptom.id as Symptom\n",
    "\"\"\"\n",
    "result = graph.query(query)\n",
    "print(\"=== Influenza Symptoms ===\")\n",
    "for record in result:\n",
    "    print(f\"• {record['Symptom']}\")"
   ]
  },
  {
   "cell_type": "code",
   "execution_count": 47,
   "id": "e1c05226",
   "metadata": {},
   "outputs": [
    {
     "name": "stdout",
     "output_type": "stream",
     "text": [
      "=== Medicines and Their Treatments ===\n",
      "• ginger treats nausea (Symptom)\n",
      "• insulin therapy manages diabetes (Medical Condition)\n",
      "• oseltamivir treats influenza (Medical Condition)\n",
      "• turmeric treats inflammation (Symptom)\n"
     ]
    }
   ],
   "source": [
    "# Method 4: Find medicines that treat specific diseases\n",
    "query = \"\"\"\n",
    "MATCH (medicine:Medicine)-[r:TREATS|MANAGES]->(target)\n",
    "RETURN medicine.id as Medicine, type(r) as Action, target.id as Target, labels(target) as TargetType\n",
    "ORDER BY Medicine\n",
    "\"\"\"\n",
    "result = graph.query(query)\n",
    "print(\"=== Medicines and Their Treatments ===\")\n",
    "for record in result:\n",
    "    print(f\"• {record['Medicine']} {record['Action'].lower()} {record['Target']} ({record['TargetType'][0]})\")"
   ]
  },
  {
   "cell_type": "code",
   "execution_count": 48,
   "id": "96d90dda",
   "metadata": {},
   "outputs": [
    {
     "name": "stdout",
     "output_type": "stream",
     "text": [
      "=== Treatment Paths: Disease -> Symptom -> Medicine ===\n"
     ]
    }
   ],
   "source": [
    "# Method 5: Find treatment paths (disease -> symptom -> medicine)\n",
    "query = \"\"\"\n",
    "MATCH path = (disease:`Medical Condition`)-[:HAS_SYMPTOM]->(symptom:Symptom)<-[:TREATS]-(medicine:Medicine)\n",
    "RETURN disease.id as Disease, symptom.id as Symptom, medicine.id as Medicine\n",
    "\"\"\"\n",
    "result = graph.query(query)\n",
    "print(\"=== Treatment Paths: Disease -> Symptom -> Medicine ===\")\n",
    "for record in result:\n",
    "    print(f\"• {record['Disease']} causes {record['Symptom']} → treated by {record['Medicine']}\")"
   ]
  },
  {
   "cell_type": "code",
   "execution_count": 49,
   "id": "f1cdf5ea",
   "metadata": {},
   "outputs": [
    {
     "name": "stdout",
     "output_type": "stream",
     "text": [
      "=== Node Count by Type ===\n",
      "• Symptom: 9 nodes\n",
      "• Medicine: 4 nodes\n",
      "• Medical Condition: 3 nodes\n",
      "• Body Function: 1 nodes\n"
     ]
    }
   ],
   "source": [
    "# Method 6: Count nodes by type\n",
    "query = \"\"\"\n",
    "MATCH (n)\n",
    "RETURN DISTINCT labels(n) as NodeType, count(n) as Count\n",
    "ORDER BY Count DESC\n",
    "\"\"\"\n",
    "result = graph.query(query)\n",
    "print(\"=== Node Count by Type ===\")\n",
    "for record in result:\n",
    "    node_type = record['NodeType'][0] if record['NodeType'] else 'Unknown'\n",
    "    print(f\"• {node_type}: {record['Count']} nodes\")"
   ]
  },
  {
   "cell_type": "code",
   "execution_count": 50,
   "id": "1233fefb",
   "metadata": {},
   "outputs": [
    {
     "name": "stdout",
     "output_type": "stream",
     "text": [
      "=== Diseases that cause 'fever' ===\n",
      "• influenza\n",
      "\n",
      "=== Complete Disease-Symptom Map ===\n",
      "• diabetes: frequent urination, excessive thirst, unexplained weight loss\n",
      "• influenza: fatigue, body aches, fever, sore throat\n"
     ]
    }
   ],
   "source": [
    "# Method 7: Find diseases by symptoms (diagnostic queries)\n",
    "symptom_input = \"fever\"  # You can change this to any symptom\n",
    "query = f\"\"\"\n",
    "MATCH (symptom:Symptom {{id: '{symptom_input}'}})<-[:HAS_SYMPTOM]-(disease:`Medical Condition`)\n",
    "RETURN disease.id as Disease, symptom.id as Symptom\n",
    "\"\"\"\n",
    "result = graph.query(query)\n",
    "print(f\"=== Diseases that cause '{symptom_input}' ===\")\n",
    "for record in result:\n",
    "    print(f\"• {record['Disease']}\")\n",
    "\n",
    "# Alternative: Find all diseases and their symptoms for diagnostic lookup\n",
    "print(\"\\n=== Complete Disease-Symptom Map ===\")\n",
    "query = \"\"\"\n",
    "MATCH (disease:`Medical Condition`)-[:HAS_SYMPTOM]->(symptom:Symptom)\n",
    "RETURN disease.id as Disease, collect(symptom.id) as Symptoms\n",
    "ORDER BY Disease\n",
    "\"\"\"\n",
    "result = graph.query(query)\n",
    "for record in result:\n",
    "    symptoms_str = \", \".join(record['Symptoms'])\n",
    "    print(f\"• {record['Disease']}: {symptoms_str}\")"
   ]
  },
  {
   "cell_type": "code",
   "execution_count": 52,
   "id": "2e8334bf",
   "metadata": {},
   "outputs": [
    {
     "name": "stdout",
     "output_type": "stream",
     "text": [
      "=== Most Connected Entities ===\n",
      "• influenza (Medical Condition): 5 connections\n",
      "• diabetes (Medical Condition): 4 connections\n",
      "• fatigue (Symptom): 1 connections\n",
      "• fever (Symptom): 1 connections\n",
      "• body aches (Symptom): 1 connections\n",
      "\n",
      "=== All Relationship Types ===\n",
      "• HAS_SYMPTOM: 7 relationships\n",
      "• TREATS: 3 relationships\n",
      "• DISRUPTS: 1 relationships\n",
      "• MANAGES: 1 relationships\n",
      "\n",
      "=== Treatment Recommendations ===\n",
      "• influenza (Medical Condition): 5 connections\n",
      "• diabetes (Medical Condition): 4 connections\n",
      "• fatigue (Symptom): 1 connections\n",
      "• fever (Symptom): 1 connections\n",
      "• body aches (Symptom): 1 connections\n",
      "\n",
      "=== All Relationship Types ===\n",
      "• HAS_SYMPTOM: 7 relationships\n",
      "• TREATS: 3 relationships\n",
      "• DISRUPTS: 1 relationships\n",
      "• MANAGES: 1 relationships\n",
      "\n",
      "=== Treatment Recommendations ===\n",
      "• diabetes\n",
      "  Symptoms: frequent urination, excessive thirst, unexplained weight loss\n",
      "  Treatments: insulin therapy\n",
      "\n",
      "• influenza\n",
      "  Symptoms: fatigue, body aches, fever, sore throat\n",
      "  Treatments: No specific treatment found\n",
      "\n",
      "• diabetes\n",
      "  Symptoms: frequent urination, excessive thirst, unexplained weight loss\n",
      "  Treatments: insulin therapy\n",
      "\n",
      "• influenza\n",
      "  Symptoms: fatigue, body aches, fever, sore throat\n",
      "  Treatments: No specific treatment found\n",
      "\n"
     ]
    }
   ],
   "source": [
    "# Method 8: Advanced queries - Multi-hop relationships and aggregations\n",
    "\n",
    "# Find the most connected nodes (highest degree centrality) - Fixed for Neo4j 5+\n",
    "print(\"=== Most Connected Entities ===\")\n",
    "query = \"\"\"\n",
    "MATCH (n)\n",
    "RETURN n.id as Entity, labels(n)[0] as Type, \n",
    "       COUNT { (n)--() } as connections\n",
    "ORDER BY connections DESC\n",
    "LIMIT 5\n",
    "\"\"\"\n",
    "result = graph.query(query)\n",
    "for record in result:\n",
    "    print(f\"• {record['Entity']} ({record['Type']}): {record['connections']} connections\")\n",
    "\n",
    "# Find all relationship types in the graph\n",
    "print(\"\\n=== All Relationship Types ===\")\n",
    "query = \"\"\"\n",
    "MATCH ()-[r]->()\n",
    "RETURN DISTINCT type(r) as RelationType, count(r) as Count\n",
    "ORDER BY Count DESC\n",
    "\"\"\"\n",
    "result = graph.query(query)\n",
    "for record in result:\n",
    "    print(f\"• {record['RelationType']}: {record['Count']} relationships\")\n",
    "\n",
    "# Complex query: Find treatment recommendations based on symptoms\n",
    "print(\"\\n=== Treatment Recommendations ===\")\n",
    "query = \"\"\"\n",
    "MATCH (disease:`Medical Condition`)-[:HAS_SYMPTOM]->(symptom:Symptom)\n",
    "OPTIONAL MATCH (medicine:Medicine)-[:TREATS]->(symptom)\n",
    "OPTIONAL MATCH (medicine2:Medicine)-[:MANAGES]->(disease)\n",
    "RETURN disease.id as Disease, \n",
    "       collect(DISTINCT symptom.id) as Symptoms,\n",
    "       collect(DISTINCT medicine.id) + collect(DISTINCT medicine2.id) as Treatments\n",
    "ORDER BY Disease\n",
    "\"\"\"\n",
    "result = graph.query(query)\n",
    "for record in result:\n",
    "    symptoms = \", \".join(record['Symptoms']) if record['Symptoms'] else \"None\"\n",
    "    treatments = [t for t in record['Treatments'] if t]  # Remove None values\n",
    "    treatments_str = \", \".join(treatments) if treatments else \"No specific treatment found\"\n",
    "    print(f\"• {record['Disease']}\")\n",
    "    print(f\"  Symptoms: {symptoms}\")\n",
    "    print(f\"  Treatments: {treatments_str}\")\n",
    "    print()"
   ]
  },
  {
   "cell_type": "markdown",
   "id": "809f4232",
   "metadata": {},
   "source": [
    "## Summary: How to Query Graph Documents in Neo4j\n",
    "\n",
    "You now have several powerful ways to query your medical knowledge graph:\n",
    "\n",
    "### Basic Query Patterns:\n",
    "1. **Query by Node Type**: Filter nodes by their labels (`Medical Condition`, `Symptom`, `Medicine`)\n",
    "2. **Query by Relationships**: Find connections between specific nodes using relationship types\n",
    "3. **Query by Properties**: Search for nodes with specific property values\n",
    "\n",
    "### Advanced Query Patterns:\n",
    "4. **Multi-hop Queries**: Traverse multiple relationships to find complex patterns\n",
    "5. **Aggregations**: Count nodes, collect related entities, and compute statistics\n",
    "6. **Pattern Matching**: Find specific graph patterns like treatment paths\n",
    "7. **Optional Matches**: Handle cases where relationships might not exist\n",
    "\n",
    "### Key Neo4j Cypher Concepts Used:\n",
    "- `MATCH`: Find patterns in the graph\n",
    "- `RETURN`: Specify what to return from the query\n",
    "- `WHERE`: Filter results based on conditions\n",
    "- `OPTIONAL MATCH`: Match patterns that may not exist\n",
    "- `COLLECT`: Aggregate related nodes into lists\n",
    "- `COUNT`: Count occurrences\n",
    "- `ORDER BY`: Sort results\n",
    "- `LIMIT`: Limit number of results\n",
    "\n",
    "### Practical Applications:\n",
    "- **Medical Diagnosis**: Find diseases based on symptoms\n",
    "- **Treatment Planning**: Discover medicines for specific conditions\n",
    "- **Knowledge Discovery**: Identify the most connected entities\n",
    "- **Data Analysis**: Count and analyze relationships in the graph"
   ]
  },
  {
   "cell_type": "code",
   "execution_count": 61,
   "id": "f9a73cbf",
   "metadata": {},
   "outputs": [
    {
     "name": "stdout",
     "output_type": "stream",
     "text": [
      "=== Updated Graph Schema ===\n",
      "Node properties:\n",
      "Symptom {id: STRING}\n",
      "Medical Condition {id: STRING}\n",
      "Medicine {id: STRING}\n",
      "Body Function {id: STRING}\n",
      "Relationship properties:\n",
      "\n",
      "The relationships:\n",
      "(:Medical Condition)-[:DISRUPTS]->(:Body Function)\n",
      "(:Medical Condition)-[:HAS_SYMPTOM]->(:Symptom)\n",
      "(:Medicine)-[:MANAGES]->(:Medical Condition)\n",
      "(:Medicine)-[:TREATS]->(:Symptom)\n",
      "(:Medicine)-[:TREATS]->(:Medical Condition)\n"
     ]
    }
   ],
   "source": [
    "# Refresh the graph schema to pick up our medical data\n",
    "graph.refresh_schema()\n",
    "print(\"=== Updated Graph Schema ===\")\n",
    "print(graph.schema)"
   ]
  },
  {
   "cell_type": "code",
   "execution_count": 62,
   "id": "08b2f1d5",
   "metadata": {},
   "outputs": [
    {
     "data": {
      "text/plain": [
       "GraphCypherQAChain(verbose=True, graph=<langchain_community.graphs.neo4j_graph.Neo4jGraph object at 0x000002742E8F0910>, cypher_generation_chain=LLMChain(verbose=False, prompt=PromptTemplate(input_variables=['question', 'schema'], input_types={}, partial_variables={}, template='Task:Generate Cypher statement to query a graph database.\\nInstructions:\\nUse only the provided relationship types and properties in the schema.\\nDo not use any other relationship types or properties that are not provided.\\nSchema:\\n{schema}\\nNote: Do not include any explanations or apologies in your responses.\\nDo not respond to any questions that might ask anything else than for you to construct a Cypher statement.\\nDo not include any text except the generated Cypher statement.\\n\\nThe question is:\\n{question}'), llm=AzureChatOpenAI(client=<openai.resources.chat.completions.completions.Completions object at 0x000002744FC4B380>, async_client=<openai.resources.chat.completions.completions.AsyncCompletions object at 0x000002744FC4BE00>, temperature=0.1, model_kwargs={}, openai_api_key='92334cbb0b0343d8a40571823b7c78b6', openai_proxy='', max_tokens=1000, azure_endpoint='https://mosl-openai-eastus.openai.azure.com/', deployment_name='mosl-openai-eastus-gpt4o', openai_api_version='2024-12-01-preview', openai_api_type='azure'), output_parser=StrOutputParser(), llm_kwargs={}), qa_chain=LLMChain(verbose=False, prompt=PromptTemplate(input_variables=['context', 'question'], input_types={}, partial_variables={}, template=\"You are an assistant that helps to form nice and human understandable answers.\\nThe information part contains the provided information that you must use to construct an answer.\\nThe provided information is authoritative, you must never doubt it or try to use your internal knowledge to correct it.\\nMake the answer sound as a response to the question. Do not mention that you based the result on the given information.\\nHere is an example:\\n\\nQuestion: Which managers own Neo4j stocks?\\nContext:[manager:CTL LLC, manager:JANE STREET GROUP LLC]\\nHelpful Answer: CTL LLC, JANE STREET GROUP LLC owns Neo4j stocks.\\n\\nFollow this example when generating answers.\\nIf the provided information is empty, say that you don't know the answer.\\nInformation:\\n{context}\\n\\nQuestion: {question}\\nHelpful Answer:\"), llm=AzureChatOpenAI(client=<openai.resources.chat.completions.completions.Completions object at 0x000002744FC4B380>, async_client=<openai.resources.chat.completions.completions.AsyncCompletions object at 0x000002744FC4BE00>, temperature=0.1, model_kwargs={}, openai_api_key='92334cbb0b0343d8a40571823b7c78b6', openai_proxy='', max_tokens=1000, azure_endpoint='https://mosl-openai-eastus.openai.azure.com/', deployment_name='mosl-openai-eastus-gpt4o', openai_api_version='2024-12-01-preview', openai_api_type='azure'), output_parser=StrOutputParser(), llm_kwargs={}), graph_schema='Node properties are the following:\\nSymptom {id: STRING},Medical Condition {id: STRING},Medicine {id: STRING},Body Function {id: STRING}\\nRelationship properties are the following:\\n\\nThe relationships are the following:\\n(:Medical Condition)-[:DISRUPTS]->(:Body Function),(:Medical Condition)-[:HAS_SYMPTOM]->(:Symptom),(:Medicine)-[:MANAGES]->(:Medical Condition),(:Medicine)-[:TREATS]->(:Symptom),(:Medicine)-[:TREATS]->(:Medical Condition)', allow_dangerous_requests=True)"
      ]
     },
     "execution_count": 62,
     "metadata": {},
     "output_type": "execute_result"
    }
   ],
   "source": [
    "from langchain.chains import GraphCypherQAChain\n",
    "# Note: Setting allow_dangerous_requests=True is required for security acknowledgment\n",
    "chain = GraphCypherQAChain.from_llm(\n",
    "    llm, \n",
    "    graph=graph, \n",
    "    verbose=True, \n",
    "    allow_dangerous_requests=True\n",
    ")\n",
    "chain"
   ]
  },
  {
   "cell_type": "code",
   "execution_count": 66,
   "id": "0adf0025",
   "metadata": {},
   "outputs": [
    {
     "name": "stdout",
     "output_type": "stream",
     "text": [
      "\n",
      "\n",
      "\u001b[1m> Entering new GraphCypherQAChain chain...\u001b[0m\n",
      "Generated Cypher:\n",
      "\u001b[32;1m\u001b[1;3mcypher\n",
      "MATCH (mc:Medical Condition {id: 'influenza'})-[:HAS_SYMPTOM]->(s:Symptom)\n",
      "RETURN s.id\n",
      "\u001b[0m\n"
     ]
    },
    {
     "ename": "CypherSyntaxError",
     "evalue": "{code: Neo.ClientError.Statement.SyntaxError} {message: Invalid input 'Condition': expected a parameter, '&', ')', ':', 'WHERE', '{' or '|' (line 2, column 19 (offset: 25))\n\"MATCH (mc:Medical Condition {id: 'influenza'})-[:HAS_SYMPTOM]->(s:Symptom)\"\n                   ^}",
     "output_type": "error",
     "traceback": [
      "\u001b[31m---------------------------------------------------------------------------\u001b[39m",
      "\u001b[31mGqlError\u001b[39m                                  Traceback (most recent call last)",
      "\u001b[31mGqlError\u001b[39m: {gql_status: 42I06} {gql_status_description: error: syntax error or access rule violation - invalid input. Invalid input 'Condition', expected: a parameter, '&', ')', ':', 'WHERE', '{' or '|'.} {message: 42I06: Invalid input 'Condition', expected: a parameter, '&', ')', ':', 'WHERE', '{' or '|'.} {diagnostic_record: {'_classification': 'CLIENT_ERROR', '_position': {'offset': 25, 'column': 19, 'line': 2}, 'OPERATION': '', 'OPERATION_CODE': '0', 'CURRENT_SCHEMA': '/'}} {raw_classification: CLIENT_ERROR}",
      "\nThe above exception was the direct cause of the following exception:\n",
      "\u001b[31mCypherSyntaxError\u001b[39m                         Traceback (most recent call last)",
      "\u001b[36mCell\u001b[39m\u001b[36m \u001b[39m\u001b[32mIn[66]\u001b[39m\u001b[32m, line 3\u001b[39m\n\u001b[32m      1\u001b[39m \u001b[38;5;66;03m# Now you can ask natural language questions about your medical knowledge graph\u001b[39;00m\n\u001b[32m      2\u001b[39m question = \u001b[33m\"\u001b[39m\u001b[33mWhat are the symptoms of influenza?\u001b[39m\u001b[33m\"\u001b[39m\n\u001b[32m----> \u001b[39m\u001b[32m3\u001b[39m response = \u001b[43mchain\u001b[49m\u001b[43m.\u001b[49m\u001b[43minvoke\u001b[49m\u001b[43m(\u001b[49m\u001b[43m{\u001b[49m\u001b[33;43m\"\u001b[39;49m\u001b[33;43mquery\u001b[39;49m\u001b[33;43m\"\u001b[39;49m\u001b[43m:\u001b[49m\u001b[43m \u001b[49m\u001b[43mquestion\u001b[49m\u001b[43m}\u001b[49m\u001b[43m)\u001b[49m\n\u001b[32m      4\u001b[39m \u001b[38;5;28mprint\u001b[39m(\u001b[33m\"\u001b[39m\u001b[33mQuestion:\u001b[39m\u001b[33m\"\u001b[39m, question)\n\u001b[32m      5\u001b[39m \u001b[38;5;28mprint\u001b[39m(\u001b[33m\"\u001b[39m\u001b[33mAnswer:\u001b[39m\u001b[33m\"\u001b[39m, response[\u001b[33m\"\u001b[39m\u001b[33mresult\u001b[39m\u001b[33m\"\u001b[39m])\n",
      "\u001b[36mFile \u001b[39m\u001b[32mc:\\Users\\Rohan Gupta\\Documents\\minor project\\knowlege graph\\.venv\\Lib\\site-packages\\langchain\\chains\\base.py:165\u001b[39m, in \u001b[36mChain.invoke\u001b[39m\u001b[34m(self, input, config, **kwargs)\u001b[39m\n\u001b[32m    162\u001b[39m \u001b[38;5;28;01mtry\u001b[39;00m:\n\u001b[32m    163\u001b[39m     \u001b[38;5;28mself\u001b[39m._validate_inputs(inputs)\n\u001b[32m    164\u001b[39m     outputs = (\n\u001b[32m--> \u001b[39m\u001b[32m165\u001b[39m         \u001b[38;5;28;43mself\u001b[39;49m\u001b[43m.\u001b[49m\u001b[43m_call\u001b[49m\u001b[43m(\u001b[49m\u001b[43minputs\u001b[49m\u001b[43m,\u001b[49m\u001b[43m \u001b[49m\u001b[43mrun_manager\u001b[49m\u001b[43m=\u001b[49m\u001b[43mrun_manager\u001b[49m\u001b[43m)\u001b[49m\n\u001b[32m    166\u001b[39m         \u001b[38;5;28;01mif\u001b[39;00m new_arg_supported\n\u001b[32m    167\u001b[39m         \u001b[38;5;28;01melse\u001b[39;00m \u001b[38;5;28mself\u001b[39m._call(inputs)\n\u001b[32m    168\u001b[39m     )\n\u001b[32m    170\u001b[39m     final_outputs: \u001b[38;5;28mdict\u001b[39m[\u001b[38;5;28mstr\u001b[39m, Any] = \u001b[38;5;28mself\u001b[39m.prep_outputs(\n\u001b[32m    171\u001b[39m         inputs,\n\u001b[32m    172\u001b[39m         outputs,\n\u001b[32m    173\u001b[39m         return_only_outputs,\n\u001b[32m    174\u001b[39m     )\n\u001b[32m    175\u001b[39m \u001b[38;5;28;01mexcept\u001b[39;00m \u001b[38;5;167;01mBaseException\u001b[39;00m \u001b[38;5;28;01mas\u001b[39;00m e:\n",
      "\u001b[36mFile \u001b[39m\u001b[32mc:\\Users\\Rohan Gupta\\Documents\\minor project\\knowlege graph\\.venv\\Lib\\site-packages\\langchain_community\\chains\\graph_qa\\cypher.py:392\u001b[39m, in \u001b[36mGraphCypherQAChain._call\u001b[39m\u001b[34m(self, inputs, run_manager)\u001b[39m\n\u001b[32m    389\u001b[39m \u001b[38;5;66;03m# Retrieve and limit the number of results\u001b[39;00m\n\u001b[32m    390\u001b[39m \u001b[38;5;66;03m# Generated Cypher be null if query corrector identifies invalid schema\u001b[39;00m\n\u001b[32m    391\u001b[39m \u001b[38;5;28;01mif\u001b[39;00m generated_cypher:\n\u001b[32m--> \u001b[39m\u001b[32m392\u001b[39m     context = \u001b[38;5;28;43mself\u001b[39;49m\u001b[43m.\u001b[49m\u001b[43mgraph\u001b[49m\u001b[43m.\u001b[49m\u001b[43mquery\u001b[49m\u001b[43m(\u001b[49m\u001b[43mgenerated_cypher\u001b[49m\u001b[43m)\u001b[49m[: \u001b[38;5;28mself\u001b[39m.top_k]\n\u001b[32m    393\u001b[39m \u001b[38;5;28;01melse\u001b[39;00m:\n\u001b[32m    394\u001b[39m     context = []\n",
      "\u001b[36mFile \u001b[39m\u001b[32mc:\\Users\\Rohan Gupta\\Documents\\minor project\\knowlege graph\\.venv\\Lib\\site-packages\\langchain_community\\graphs\\neo4j_graph.py:467\u001b[39m, in \u001b[36mNeo4jGraph.query\u001b[39m\u001b[34m(self, query, params)\u001b[39m\n\u001b[32m    464\u001b[39m \u001b[38;5;28;01mfrom\u001b[39;00m\u001b[38;5;250m \u001b[39m\u001b[34;01mneo4j\u001b[39;00m\u001b[34;01m.\u001b[39;00m\u001b[34;01mexceptions\u001b[39;00m\u001b[38;5;250m \u001b[39m\u001b[38;5;28;01mimport\u001b[39;00m Neo4jError\n\u001b[32m    466\u001b[39m \u001b[38;5;28;01mtry\u001b[39;00m:\n\u001b[32m--> \u001b[39m\u001b[32m467\u001b[39m     data, _, _ = \u001b[38;5;28;43mself\u001b[39;49m\u001b[43m.\u001b[49m\u001b[43m_driver\u001b[49m\u001b[43m.\u001b[49m\u001b[43mexecute_query\u001b[49m\u001b[43m(\u001b[49m\n\u001b[32m    468\u001b[39m \u001b[43m        \u001b[49m\u001b[43mQuery\u001b[49m\u001b[43m(\u001b[49m\u001b[43mtext\u001b[49m\u001b[43m=\u001b[49m\u001b[43mquery\u001b[49m\u001b[43m,\u001b[49m\u001b[43m \u001b[49m\u001b[43mtimeout\u001b[49m\u001b[43m=\u001b[49m\u001b[38;5;28;43mself\u001b[39;49m\u001b[43m.\u001b[49m\u001b[43mtimeout\u001b[49m\u001b[43m)\u001b[49m\u001b[43m,\u001b[49m\n\u001b[32m    469\u001b[39m \u001b[43m        \u001b[49m\u001b[43mdatabase_\u001b[49m\u001b[43m=\u001b[49m\u001b[38;5;28;43mself\u001b[39;49m\u001b[43m.\u001b[49m\u001b[43m_database\u001b[49m\u001b[43m,\u001b[49m\n\u001b[32m    470\u001b[39m \u001b[43m        \u001b[49m\u001b[43mparameters_\u001b[49m\u001b[43m=\u001b[49m\u001b[43mparams\u001b[49m\u001b[43m,\u001b[49m\n\u001b[32m    471\u001b[39m \u001b[43m    \u001b[49m\u001b[43m)\u001b[49m\n\u001b[32m    472\u001b[39m     json_data = [r.data() \u001b[38;5;28;01mfor\u001b[39;00m r \u001b[38;5;129;01min\u001b[39;00m data]\n\u001b[32m    473\u001b[39m     \u001b[38;5;28;01mif\u001b[39;00m \u001b[38;5;28mself\u001b[39m.sanitize:\n",
      "\u001b[36mFile \u001b[39m\u001b[32mc:\\Users\\Rohan Gupta\\Documents\\minor project\\knowlege graph\\.venv\\Lib\\site-packages\\neo4j\\_sync\\driver.py:978\u001b[39m, in \u001b[36mDriver.execute_query\u001b[39m\u001b[34m(self, query_, parameters_, routing_, database_, impersonated_user_, bookmark_manager_, auth_, result_transformer_, **kwargs)\u001b[39m\n\u001b[32m    974\u001b[39m     \u001b[38;5;28;01mraise\u001b[39;00m \u001b[38;5;167;01mValueError\u001b[39;00m(\n\u001b[32m    975\u001b[39m         \u001b[33mf\u001b[39m\u001b[33m\"\u001b[39m\u001b[33mInvalid routing control value: \u001b[39m\u001b[38;5;132;01m{\u001b[39;00mrouting_\u001b[38;5;132;01m!r}\u001b[39;00m\u001b[33m\"\u001b[39m\n\u001b[32m    976\u001b[39m     )\n\u001b[32m    977\u001b[39m \u001b[38;5;28;01mwith\u001b[39;00m session._pipelined_begin:\n\u001b[32m--> \u001b[39m\u001b[32m978\u001b[39m     \u001b[38;5;28;01mreturn\u001b[39;00m \u001b[43msession\u001b[49m\u001b[43m.\u001b[49m\u001b[43m_run_transaction\u001b[49m\u001b[43m(\u001b[49m\n\u001b[32m    979\u001b[39m \u001b[43m        \u001b[49m\u001b[43maccess_mode\u001b[49m\u001b[43m,\u001b[49m\n\u001b[32m    980\u001b[39m \u001b[43m        \u001b[49m\u001b[43mTelemetryAPI\u001b[49m\u001b[43m.\u001b[49m\u001b[43mDRIVER\u001b[49m\u001b[43m,\u001b[49m\n\u001b[32m    981\u001b[39m \u001b[43m        \u001b[49m\u001b[43mwork\u001b[49m\u001b[43m,\u001b[49m\n\u001b[32m    982\u001b[39m \u001b[43m        \u001b[49m\u001b[43m(\u001b[49m\u001b[43mquery_str\u001b[49m\u001b[43m,\u001b[49m\u001b[43m \u001b[49m\u001b[43mparameters\u001b[49m\u001b[43m,\u001b[49m\u001b[43m \u001b[49m\u001b[43mresult_transformer_\u001b[49m\u001b[43m)\u001b[49m\u001b[43m,\u001b[49m\n\u001b[32m    983\u001b[39m \u001b[43m        \u001b[49m\u001b[43m{\u001b[49m\u001b[43m}\u001b[49m\u001b[43m,\u001b[49m\n\u001b[32m    984\u001b[39m \u001b[43m    \u001b[49m\u001b[43m)\u001b[49m\n",
      "\u001b[36mFile \u001b[39m\u001b[32mc:\\Users\\Rohan Gupta\\Documents\\minor project\\knowlege graph\\.venv\\Lib\\site-packages\\neo4j\\_sync\\work\\session.py:588\u001b[39m, in \u001b[36mSession._run_transaction\u001b[39m\u001b[34m(self, access_mode, api, transaction_function, args, kwargs)\u001b[39m\n\u001b[32m    586\u001b[39m tx = \u001b[38;5;28mself\u001b[39m._transaction\n\u001b[32m    587\u001b[39m \u001b[38;5;28;01mtry\u001b[39;00m:\n\u001b[32m--> \u001b[39m\u001b[32m588\u001b[39m     result = \u001b[43mtransaction_function\u001b[49m\u001b[43m(\u001b[49m\u001b[43mtx\u001b[49m\u001b[43m,\u001b[49m\u001b[43m \u001b[49m\u001b[43m*\u001b[49m\u001b[43margs\u001b[49m\u001b[43m,\u001b[49m\u001b[43m \u001b[49m\u001b[43m*\u001b[49m\u001b[43m*\u001b[49m\u001b[43mkwargs\u001b[49m\u001b[43m)\u001b[49m\n\u001b[32m    589\u001b[39m \u001b[38;5;28;01mexcept\u001b[39;00m asyncio.CancelledError:\n\u001b[32m    590\u001b[39m     \u001b[38;5;66;03m# if cancellation callback has not been called yet:\u001b[39;00m\n\u001b[32m    591\u001b[39m     \u001b[38;5;28;01mif\u001b[39;00m \u001b[38;5;28mself\u001b[39m._transaction \u001b[38;5;129;01mis\u001b[39;00m \u001b[38;5;129;01mnot\u001b[39;00m \u001b[38;5;28;01mNone\u001b[39;00m:\n",
      "\u001b[36mFile \u001b[39m\u001b[32mc:\\Users\\Rohan Gupta\\Documents\\minor project\\knowlege graph\\.venv\\Lib\\site-packages\\neo4j\\_work\\query.py:144\u001b[39m, in \u001b[36munit_of_work.<locals>.wrapper.<locals>.wrapped\u001b[39m\u001b[34m(*args, **kwargs)\u001b[39m\n\u001b[32m    143\u001b[39m \u001b[38;5;28;01mdef\u001b[39;00m\u001b[38;5;250m \u001b[39m\u001b[34mwrapped\u001b[39m(*args, **kwargs):\n\u001b[32m--> \u001b[39m\u001b[32m144\u001b[39m     \u001b[38;5;28;01mreturn\u001b[39;00m \u001b[43mf\u001b[49m\u001b[43m(\u001b[49m\u001b[43m*\u001b[49m\u001b[43margs\u001b[49m\u001b[43m,\u001b[49m\u001b[43m \u001b[49m\u001b[43m*\u001b[49m\u001b[43m*\u001b[49m\u001b[43mkwargs\u001b[49m\u001b[43m)\u001b[49m\n",
      "\u001b[36mFile \u001b[39m\u001b[32mc:\\Users\\Rohan Gupta\\Documents\\minor project\\knowlege graph\\.venv\\Lib\\site-packages\\neo4j\\_sync\\driver.py:1314\u001b[39m, in \u001b[36m_work\u001b[39m\u001b[34m(tx, query, parameters, transformer)\u001b[39m\n\u001b[32m   1308\u001b[39m \u001b[38;5;28;01mdef\u001b[39;00m\u001b[38;5;250m \u001b[39m\u001b[34m_work\u001b[39m(\n\u001b[32m   1309\u001b[39m     tx: ManagedTransaction,\n\u001b[32m   1310\u001b[39m     query: te.LiteralString,\n\u001b[32m   1311\u001b[39m     parameters: \u001b[38;5;28mdict\u001b[39m[\u001b[38;5;28mstr\u001b[39m, t.Any],\n\u001b[32m   1312\u001b[39m     transformer: t.Callable[[Result], t.Union[_T]],\n\u001b[32m   1313\u001b[39m ) -> _T:\n\u001b[32m-> \u001b[39m\u001b[32m1314\u001b[39m     res = \u001b[43mtx\u001b[49m\u001b[43m.\u001b[49m\u001b[43mrun\u001b[49m\u001b[43m(\u001b[49m\u001b[43mquery\u001b[49m\u001b[43m,\u001b[49m\u001b[43m \u001b[49m\u001b[43mparameters\u001b[49m\u001b[43m)\u001b[49m\n\u001b[32m   1315\u001b[39m     \u001b[38;5;28;01mreturn\u001b[39;00m transformer(res)\n",
      "\u001b[36mFile \u001b[39m\u001b[32mc:\\Users\\Rohan Gupta\\Documents\\minor project\\knowlege graph\\.venv\\Lib\\site-packages\\neo4j\\_sync\\work\\transaction.py:206\u001b[39m, in \u001b[36mTransactionBase.run\u001b[39m\u001b[34m(self, query, parameters, **kwparameters)\u001b[39m\n\u001b[32m    203\u001b[39m \u001b[38;5;28mself\u001b[39m._results.append(result)\n\u001b[32m    205\u001b[39m parameters = \u001b[38;5;28mdict\u001b[39m(parameters \u001b[38;5;129;01mor\u001b[39;00m {}, **kwparameters)\n\u001b[32m--> \u001b[39m\u001b[32m206\u001b[39m \u001b[43mresult\u001b[49m\u001b[43m.\u001b[49m\u001b[43m_tx_ready_run\u001b[49m\u001b[43m(\u001b[49m\u001b[43mquery\u001b[49m\u001b[43m,\u001b[49m\u001b[43m \u001b[49m\u001b[43mparameters\u001b[49m\u001b[43m)\u001b[49m\n\u001b[32m    208\u001b[39m \u001b[38;5;28;01mreturn\u001b[39;00m result\n",
      "\u001b[36mFile \u001b[39m\u001b[32mc:\\Users\\Rohan Gupta\\Documents\\minor project\\knowlege graph\\.venv\\Lib\\site-packages\\neo4j\\_sync\\work\\result.py:177\u001b[39m, in \u001b[36mResult._tx_ready_run\u001b[39m\u001b[34m(self, query, parameters)\u001b[39m\n\u001b[32m    173\u001b[39m \u001b[38;5;28;01mdef\u001b[39;00m\u001b[38;5;250m \u001b[39m\u001b[34m_tx_ready_run\u001b[39m(\u001b[38;5;28mself\u001b[39m, query, parameters):\n\u001b[32m    174\u001b[39m     \u001b[38;5;66;03m# BEGIN+RUN does not carry any extra on the RUN message.\u001b[39;00m\n\u001b[32m    175\u001b[39m     \u001b[38;5;66;03m# BEGIN {extra}\u001b[39;00m\n\u001b[32m    176\u001b[39m     \u001b[38;5;66;03m# RUN \"query\" {parameters} {extra}\u001b[39;00m\n\u001b[32m--> \u001b[39m\u001b[32m177\u001b[39m     \u001b[38;5;28;43mself\u001b[39;49m\u001b[43m.\u001b[49m\u001b[43m_run\u001b[49m\u001b[43m(\u001b[49m\u001b[43mquery\u001b[49m\u001b[43m,\u001b[49m\u001b[43m \u001b[49m\u001b[43mparameters\u001b[49m\u001b[43m,\u001b[49m\u001b[43m \u001b[49m\u001b[38;5;28;43;01mNone\u001b[39;49;00m\u001b[43m,\u001b[49m\u001b[43m \u001b[49m\u001b[38;5;28;43;01mNone\u001b[39;49;00m\u001b[43m,\u001b[49m\u001b[43m \u001b[49m\u001b[38;5;28;43;01mNone\u001b[39;49;00m\u001b[43m,\u001b[49m\u001b[43m \u001b[49m\u001b[38;5;28;43;01mNone\u001b[39;49;00m\u001b[43m,\u001b[49m\u001b[43m \u001b[49m\u001b[38;5;28;43;01mNone\u001b[39;49;00m\u001b[43m,\u001b[49m\u001b[43m \u001b[49m\u001b[38;5;28;43;01mNone\u001b[39;49;00m\u001b[43m)\u001b[49m\n",
      "\u001b[36mFile \u001b[39m\u001b[32mc:\\Users\\Rohan Gupta\\Documents\\minor project\\knowlege graph\\.venv\\Lib\\site-packages\\neo4j\\_sync\\work\\result.py:236\u001b[39m, in \u001b[36mResult._run\u001b[39m\u001b[34m(self, query, parameters, db, imp_user, access_mode, bookmarks, notifications_min_severity, notifications_disabled_classifications)\u001b[39m\n\u001b[32m    234\u001b[39m \u001b[38;5;28mself\u001b[39m._pull()\n\u001b[32m    235\u001b[39m \u001b[38;5;28mself\u001b[39m._connection.send_all()\n\u001b[32m--> \u001b[39m\u001b[32m236\u001b[39m \u001b[38;5;28;43mself\u001b[39;49m\u001b[43m.\u001b[49m\u001b[43m_attach\u001b[49m\u001b[43m(\u001b[49m\u001b[43m)\u001b[49m\n",
      "\u001b[36mFile \u001b[39m\u001b[32mc:\\Users\\Rohan Gupta\\Documents\\minor project\\knowlege graph\\.venv\\Lib\\site-packages\\neo4j\\_sync\\work\\result.py:430\u001b[39m, in \u001b[36mResult._attach\u001b[39m\u001b[34m(self)\u001b[39m\n\u001b[32m    428\u001b[39m \u001b[38;5;28;01mif\u001b[39;00m \u001b[38;5;28mself\u001b[39m._exhausted \u001b[38;5;129;01mis\u001b[39;00m \u001b[38;5;28;01mFalse\u001b[39;00m:\n\u001b[32m    429\u001b[39m     \u001b[38;5;28;01mwhile\u001b[39;00m \u001b[38;5;28mself\u001b[39m._attached \u001b[38;5;129;01mis\u001b[39;00m \u001b[38;5;28;01mFalse\u001b[39;00m:\n\u001b[32m--> \u001b[39m\u001b[32m430\u001b[39m         \u001b[38;5;28;43mself\u001b[39;49m\u001b[43m.\u001b[49m\u001b[43m_connection\u001b[49m\u001b[43m.\u001b[49m\u001b[43mfetch_message\u001b[49m\u001b[43m(\u001b[49m\u001b[43m)\u001b[49m\n",
      "\u001b[36mFile \u001b[39m\u001b[32mc:\\Users\\Rohan Gupta\\Documents\\minor project\\knowlege graph\\.venv\\Lib\\site-packages\\neo4j\\_sync\\io\\_common.py:193\u001b[39m, in \u001b[36mConnectionErrorHandler.__getattr__.<locals>.outer.<locals>.inner\u001b[39m\u001b[34m(*args, **kwargs)\u001b[39m\n\u001b[32m    191\u001b[39m \u001b[38;5;28;01mdef\u001b[39;00m\u001b[38;5;250m \u001b[39m\u001b[34minner\u001b[39m(*args, **kwargs):\n\u001b[32m    192\u001b[39m     \u001b[38;5;28;01mtry\u001b[39;00m:\n\u001b[32m--> \u001b[39m\u001b[32m193\u001b[39m         \u001b[43mfunc\u001b[49m\u001b[43m(\u001b[49m\u001b[43m*\u001b[49m\u001b[43margs\u001b[49m\u001b[43m,\u001b[49m\u001b[43m \u001b[49m\u001b[43m*\u001b[49m\u001b[43m*\u001b[49m\u001b[43mkwargs\u001b[49m\u001b[43m)\u001b[49m\n\u001b[32m    194\u001b[39m     \u001b[38;5;28;01mexcept\u001b[39;00m (Neo4jError, ServiceUnavailable, SessionExpired) \u001b[38;5;28;01mas\u001b[39;00m exc:\n\u001b[32m    195\u001b[39m         \u001b[38;5;28;01massert\u001b[39;00m \u001b[38;5;129;01mnot\u001b[39;00m asyncio.iscoroutinefunction(\u001b[38;5;28mself\u001b[39m.__on_error)\n",
      "\u001b[36mFile \u001b[39m\u001b[32mc:\\Users\\Rohan Gupta\\Documents\\minor project\\knowlege graph\\.venv\\Lib\\site-packages\\neo4j\\_sync\\io\\_bolt.py:863\u001b[39m, in \u001b[36mBolt.fetch_message\u001b[39m\u001b[34m(self)\u001b[39m\n\u001b[32m    859\u001b[39m \u001b[38;5;66;03m# Receive exactly one message\u001b[39;00m\n\u001b[32m    860\u001b[39m tag, fields = \u001b[38;5;28mself\u001b[39m.inbox.pop(\n\u001b[32m    861\u001b[39m     hydration_hooks=\u001b[38;5;28mself\u001b[39m.responses[\u001b[32m0\u001b[39m].hydration_hooks\n\u001b[32m    862\u001b[39m )\n\u001b[32m--> \u001b[39m\u001b[32m863\u001b[39m res = \u001b[38;5;28;43mself\u001b[39;49m\u001b[43m.\u001b[49m\u001b[43m_process_message\u001b[49m\u001b[43m(\u001b[49m\u001b[43mtag\u001b[49m\u001b[43m,\u001b[49m\u001b[43m \u001b[49m\u001b[43mfields\u001b[49m\u001b[43m)\u001b[49m\n\u001b[32m    864\u001b[39m \u001b[38;5;28mself\u001b[39m.idle_since = monotonic()\n\u001b[32m    865\u001b[39m \u001b[38;5;28;01mreturn\u001b[39;00m res\n",
      "\u001b[36mFile \u001b[39m\u001b[32mc:\\Users\\Rohan Gupta\\Documents\\minor project\\knowlege graph\\.venv\\Lib\\site-packages\\neo4j\\_sync\\io\\_bolt5.py:1208\u001b[39m, in \u001b[36mBolt5x7._process_message\u001b[39m\u001b[34m(self, tag, fields)\u001b[39m\n\u001b[32m   1206\u001b[39m \u001b[38;5;28mself\u001b[39m._enrich_error_diagnostic_record(summary_metadata)\n\u001b[32m   1207\u001b[39m \u001b[38;5;28;01mtry\u001b[39;00m:\n\u001b[32m-> \u001b[39m\u001b[32m1208\u001b[39m     \u001b[43mresponse\u001b[49m\u001b[43m.\u001b[49m\u001b[43mon_failure\u001b[49m\u001b[43m(\u001b[49m\u001b[43msummary_metadata\u001b[49m\u001b[43m \u001b[49m\u001b[38;5;129;43;01mor\u001b[39;49;00m\u001b[43m \u001b[49m\u001b[43m{\u001b[49m\u001b[43m}\u001b[49m\u001b[43m)\u001b[49m\n\u001b[32m   1209\u001b[39m \u001b[38;5;28;01mexcept\u001b[39;00m (ServiceUnavailable, DatabaseUnavailable):\n\u001b[32m   1210\u001b[39m     \u001b[38;5;28;01mif\u001b[39;00m \u001b[38;5;28mself\u001b[39m.pool:\n",
      "\u001b[36mFile \u001b[39m\u001b[32mc:\\Users\\Rohan Gupta\\Documents\\minor project\\knowlege graph\\.venv\\Lib\\site-packages\\neo4j\\_sync\\io\\_common.py:263\u001b[39m, in \u001b[36mResponse.on_failure\u001b[39m\u001b[34m(self, metadata)\u001b[39m\n\u001b[32m    261\u001b[39m handler = \u001b[38;5;28mself\u001b[39m.handlers.get(\u001b[33m\"\u001b[39m\u001b[33mon_summary\u001b[39m\u001b[33m\"\u001b[39m)\n\u001b[32m    262\u001b[39m Util.callback(handler)\n\u001b[32m--> \u001b[39m\u001b[32m263\u001b[39m \u001b[38;5;28;01mraise\u001b[39;00m \u001b[38;5;28mself\u001b[39m._hydrate_error(metadata)\n",
      "\u001b[31mCypherSyntaxError\u001b[39m: {code: Neo.ClientError.Statement.SyntaxError} {message: Invalid input 'Condition': expected a parameter, '&', ')', ':', 'WHERE', '{' or '|' (line 2, column 19 (offset: 25))\n\"MATCH (mc:Medical Condition {id: 'influenza'})-[:HAS_SYMPTOM]->(s:Symptom)\"\n                   ^}"
     ]
    }
   ],
   "source": [
    "# Now you can ask natural language questions about your medical knowledge graph\n",
    "question = \"What are the symptoms of influenza?\"\n",
    "response = chain.invoke({\"query\": question})\n",
    "print(\"Question:\", question)\n",
    "print(\"Answer:\", response[\"result\"])"
   ]
  },
  {
   "cell_type": "code",
   "execution_count": 67,
   "id": "e0b2744a",
   "metadata": {},
   "outputs": [],
   "source": [
    "# Fix the issue: Create a custom chain with proper label handling\n",
    "from langchain_core.prompts import PromptTemplate\n",
    "\n",
    "# Custom Cypher generation prompt that handles labels with spaces\n",
    "CYPHER_GENERATION_TEMPLATE = \"\"\"Task:Generate Cypher statement to query a graph database.\n",
    "Instructions:\n",
    "Use only the provided relationship types and properties in the schema.\n",
    "Do not use any other relationship types or properties that are not provided.\n",
    "Schema:\n",
    "{schema}\n",
    "Note: The following labels have spaces and MUST be enclosed in backticks when used in Cypher queries:\n",
    "- `Medical Condition` (not Medical Condition)\n",
    "- `Body Function` (not Body Function)\n",
    "\n",
    "The question is:\n",
    "{question}\"\"\"\n",
    "\n",
    "CYPHER_GENERATION_PROMPT = PromptTemplate(\n",
    "    input_variables=[\"schema\", \"question\"], template=CYPHER_GENERATION_TEMPLATE\n",
    ")\n",
    "\n",
    "# Create a new chain with the custom prompt\n",
    "chain = GraphCypherQAChain.from_llm(\n",
    "    llm,\n",
    "    graph=graph,\n",
    "    verbose=True,\n",
    "    allow_dangerous_requests=True,\n",
    "    cypher_prompt=CYPHER_GENERATION_PROMPT\n",
    ")"
   ]
  },
  {
   "cell_type": "code",
   "execution_count": 68,
   "id": "548a7d80",
   "metadata": {},
   "outputs": [
    {
     "name": "stdout",
     "output_type": "stream",
     "text": [
      "\n",
      "\n",
      "\u001b[1m> Entering new GraphCypherQAChain chain...\u001b[0m\n",
      "Generated Cypher:\n",
      "\u001b[32;1m\u001b[1;3mcypher\n",
      "MATCH (mc:`Medical Condition` {id: 'influenza'})-[:HAS_SYMPTOM]->(s:Symptom)\n",
      "RETURN s.id AS Symptom\n",
      "\u001b[0m\n",
      "Full Context:\n",
      "\u001b[32;1m\u001b[1;3m[{'Symptom': 'fatigue'}, {'Symptom': 'body aches'}, {'Symptom': 'fever'}, {'Symptom': 'sore throat'}]\u001b[0m\n",
      "\n",
      "\u001b[1m> Finished chain.\u001b[0m\n",
      "Question: What are the symptoms of influenza?\n",
      "Answer: Fatigue, body aches, fever, and sore throat are symptoms of influenza.\n"
     ]
    }
   ],
   "source": [
    "# Test the fixed chain\n",
    "question = \"What are the symptoms of influenza?\"\n",
    "response = chain.invoke({\"query\": question})\n",
    "print(\"Question:\", question)\n",
    "print(\"Answer:\", response[\"result\"])"
   ]
  },
  {
   "cell_type": "code",
   "execution_count": null,
   "id": "265295ce",
   "metadata": {},
   "outputs": [],
   "source": [
    "# Test with more questions\n",
    "questions = [\n",
    "    \"What medicines treat diabetes?\",\n",
    "    \"What are the symptoms of diabetes?\",\n",
    "    \"Which medicine treats inflammation?\",\n",
    "    \"What diseases cause fever?\"\n",
    "]\n",
    "\n",
    "for q in questions:\n",
    "    print(f\"\\n\" + \"=\"*60)\n",
    "    print(f\"Question: {q}\")\n",
    "    try:\n",
    "        response = chain.invoke({\"query\": q})\n",
    "        print(f\"Answer: {response['result']}\")\n",
    "    except Exception as e:\n",
    "        print(f\"Error: {str(e)}\")"
   ]
  }
 ],
 "metadata": {
  "kernelspec": {
   "display_name": "knowlege graph (3.13.1)",
   "language": "python",
   "name": "python3"
  },
  "language_info": {
   "codemirror_mode": {
    "name": "ipython",
    "version": 3
   },
   "file_extension": ".py",
   "mimetype": "text/x-python",
   "name": "python",
   "nbconvert_exporter": "python",
   "pygments_lexer": "ipython3",
   "version": "3.13.1"
  }
 },
 "nbformat": 4,
 "nbformat_minor": 5
}
